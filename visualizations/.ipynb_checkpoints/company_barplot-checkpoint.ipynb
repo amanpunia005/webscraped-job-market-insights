{
 "cells": [
  {
   "cell_type": "code",
   "execution_count": 1,
   "id": "f1034766-bbc2-4f81-a07e-1526a779a83b",
   "metadata": {},
   "outputs": [],
   "source": [
    "import pandas as pd\n",
    "import matplotlib.pyplot as plt\n",
    "import seaborn as sns"
   ]
  },
  {
   "cell_type": "code",
   "execution_count": 2,
   "id": "5f49c6d9-cceb-4ada-8901-016b44c4186d",
   "metadata": {},
   "outputs": [
    {
     "data": {
      "text/html": [
       "<div>\n",
       "<style scoped>\n",
       "    .dataframe tbody tr th:only-of-type {\n",
       "        vertical-align: middle;\n",
       "    }\n",
       "\n",
       "    .dataframe tbody tr th {\n",
       "        vertical-align: top;\n",
       "    }\n",
       "\n",
       "    .dataframe thead th {\n",
       "        text-align: right;\n",
       "    }\n",
       "</style>\n",
       "<table border=\"1\" class=\"dataframe\">\n",
       "  <thead>\n",
       "    <tr style=\"text-align: right;\">\n",
       "      <th></th>\n",
       "      <th>Title</th>\n",
       "      <th>Job Title</th>\n",
       "      <th>Experience</th>\n",
       "      <th>Experience Categories</th>\n",
       "      <th>Company</th>\n",
       "      <th>Location</th>\n",
       "      <th>Skills</th>\n",
       "    </tr>\n",
       "  </thead>\n",
       "  <tbody>\n",
       "    <tr>\n",
       "      <th>0</th>\n",
       "      <td>Banking Data Analyst Immediate</td>\n",
       "      <td>Data Analyst</td>\n",
       "      <td>0 Yrs</td>\n",
       "      <td>Freshers</td>\n",
       "      <td>Quantum Leap Consulting</td>\n",
       "      <td>Bengaluru</td>\n",
       "      <td>Excel, Data Analyst, Banking And Finance, Cont...</td>\n",
       "    </tr>\n",
       "    <tr>\n",
       "      <th>1</th>\n",
       "      <td>Data Analyst</td>\n",
       "      <td>Data Analyst</td>\n",
       "      <td>0 Yrs</td>\n",
       "      <td>Freshers</td>\n",
       "      <td>Bombay Play</td>\n",
       "      <td>Bengaluru</td>\n",
       "      <td>C++, Analytical, Machine learning, Javascript,...</td>\n",
       "    </tr>\n",
       "    <tr>\n",
       "      <th>2</th>\n",
       "      <td>Data Analyst Data Executive</td>\n",
       "      <td>Data Analyst</td>\n",
       "      <td>0 Yrs</td>\n",
       "      <td>Freshers</td>\n",
       "      <td>Anutech Solutions</td>\n",
       "      <td>Vijayawada</td>\n",
       "      <td>Data Analyst, Data Executive, Data analysis, Data</td>\n",
       "    </tr>\n",
       "    <tr>\n",
       "      <th>3</th>\n",
       "      <td>Data Analyst</td>\n",
       "      <td>Data Analyst</td>\n",
       "      <td>0 Yrs</td>\n",
       "      <td>Freshers</td>\n",
       "      <td>Digital Glyde</td>\n",
       "      <td>Kolkata, Mumbai, New Delhi, Hyderabad, Pune, C...</td>\n",
       "      <td>Data analysis, Excel, Statistical analysis, An...</td>\n",
       "    </tr>\n",
       "    <tr>\n",
       "      <th>4</th>\n",
       "      <td>Data Analyst</td>\n",
       "      <td>Data Analyst</td>\n",
       "      <td>0 Yrs</td>\n",
       "      <td>Freshers</td>\n",
       "      <td>Western Digital</td>\n",
       "      <td>Bengaluru</td>\n",
       "      <td>Supply chain, Data analysis, ERP, Data managem...</td>\n",
       "    </tr>\n",
       "  </tbody>\n",
       "</table>\n",
       "</div>"
      ],
      "text/plain": [
       "                            Title     Job Title Experience  \\\n",
       "0  Banking Data Analyst Immediate  Data Analyst      0 Yrs   \n",
       "1                    Data Analyst  Data Analyst      0 Yrs   \n",
       "2     Data Analyst Data Executive  Data Analyst      0 Yrs   \n",
       "3                    Data Analyst  Data Analyst      0 Yrs   \n",
       "4                    Data Analyst  Data Analyst      0 Yrs   \n",
       "\n",
       "  Experience Categories                  Company  \\\n",
       "0              Freshers  Quantum Leap Consulting   \n",
       "1              Freshers              Bombay Play   \n",
       "2              Freshers        Anutech Solutions   \n",
       "3              Freshers            Digital Glyde   \n",
       "4              Freshers          Western Digital   \n",
       "\n",
       "                                            Location  \\\n",
       "0                                          Bengaluru   \n",
       "1                                          Bengaluru   \n",
       "2                                         Vijayawada   \n",
       "3  Kolkata, Mumbai, New Delhi, Hyderabad, Pune, C...   \n",
       "4                                          Bengaluru   \n",
       "\n",
       "                                              Skills  \n",
       "0  Excel, Data Analyst, Banking And Finance, Cont...  \n",
       "1  C++, Analytical, Machine learning, Javascript,...  \n",
       "2  Data Analyst, Data Executive, Data analysis, Data  \n",
       "3  Data analysis, Excel, Statistical analysis, An...  \n",
       "4  Supply chain, Data analysis, ERP, Data managem...  "
      ]
     },
     "execution_count": 2,
     "metadata": {},
     "output_type": "execute_result"
    }
   ],
   "source": [
    "df = pd.read_csv(r\"C:\\Users\\Aman Puniya\\WebScraped_JobMarket_Insights\\data\\cleaned_jobs_data.csv\")\n",
    "df.head()"
   ]
  },
  {
   "cell_type": "code",
   "execution_count": 21,
   "id": "dc96561c-2deb-4591-9549-9bd8ce3b053c",
   "metadata": {},
   "outputs": [
    {
     "data": {
      "text/plain": [
       "0      Quantum Leap Consulting\n",
       "1                  Bombay Play\n",
       "2            Anutech Solutions\n",
       "3                Digital Glyde\n",
       "4              Western Digital\n",
       "                ...           \n",
       "938              Deutsche Bank\n",
       "939                Winzo Games\n",
       "940                     Zensar\n",
       "941          Cityinfo Services\n",
       "942                    Siemens\n",
       "Name: Company, Length: 950, dtype: object"
      ]
     },
     "execution_count": 21,
     "metadata": {},
     "output_type": "execute_result"
    }
   ],
   "source": [
    "company = df['Company'].str.split(',').explode().str.title()\n",
    "company"
   ]
  },
  {
   "cell_type": "code",
   "execution_count": 25,
   "id": "ecc88968-faa2-49f3-8750-2e0825a6ada6",
   "metadata": {},
   "outputs": [],
   "source": [
    "count_companies = company.value_counts()\n",
    "companies = count_companies.head(10)"
   ]
  },
  {
   "cell_type": "code",
   "execution_count": 39,
   "id": "74bbb93c-42ec-4a44-9c0c-1fc5743ae0b6",
   "metadata": {},
   "outputs": [
    {
     "data": {
      "text/plain": [
       "<BarContainer object of 10 artists>"
      ]
     },
     "execution_count": 39,
     "metadata": {},
     "output_type": "execute_result"
    },
    {
     "data": {
      "image/png": "[encoded data removed]",
      "text/plain": [
       "<Figure size 1200x500 with 1 Axes>"
      ]
     },
     "metadata": {},
     "output_type": "display_data"
    }
   ],
   "source": [
    "plt.figure(figsize=(12,5),facecolor='white')\n",
    "colour = 'black'\n",
    "plt.barh(companies.index,companies.values,color = colour)"
   ]
  }
 ],
 "metadata": {
  "kernelspec": {
   "display_name": "Python [conda env:base] *",
   "language": "python",
   "name": "conda-base-py"
  },
  "language_info": {
   "codemirror_mode": {
    "name": "ipython",
    "version": 3
   },
   "file_extension": ".py",
   "mimetype": "text/x-python",
   "name": "python",
   "nbconvert_exporter": "python",
   "pygments_lexer": "ipython3",
   "version": "3.12.7"
  }
 },
 "nbformat": 4,
 "nbformat_minor": 5
}
